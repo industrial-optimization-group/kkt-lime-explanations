{
 "cells": [
  {
   "cell_type": "code",
   "execution_count": 9,
   "id": "b300cd6e",
   "metadata": {},
   "outputs": [],
   "source": [
    "import numpy as np\n",
    "from scipy.optimize import minimize\n",
    "from desdeo_problem import variable_builder, ScalarObjective, MOProblem\n",
    "from desdeo_problem.testproblems.TestProblems import test_problem_builder\n",
    "import plotly.graph_objects as go\n",
    "from desdeo_mcdm.utilities.solvers import solve_pareto_front_representation\n",
    "from desdeo_mcdm.interactive.ReferencePointMethod import ReferencePointMethod\n",
    "import matplotlib.pyplot as plt\n",
    "from gekko import GEKKO\n"
   ]
  },
  {
   "cell_type": "code",
   "execution_count": 10,
   "id": "aaa450c9-5a61-4944-afe1-680c92c98626",
   "metadata": {},
   "outputs": [],
   "source": [
    "# Define objective functions\n",
    "def f1(x):\n",
    "    f= x[0]\n",
    "    return f\n",
    "\n",
    "def f2(x):\n",
    "    g = 1 + 9.0 / (5 - 1) * np.sum(x[1:])\n",
    "    f2x = g * (1 - np.power((x[0] / g), 0.5))\n",
    "    return f2x\n",
    "\n",
    "def compute_multipliers(objectives, num_variables, lower_bounds, upper_bounds, w, z_dot):\n",
    "    # Initial guess for alpha and variables\n",
    "    m = GEKKO(remote=False)\n",
    "\n",
    "    alpha = m.Var(value=0)  # Variable alpha\n",
    "    x=m.Array(m.Var,num_variables)\n",
    "\n",
    "    for i in range(num_variables):\n",
    "        x[i].lower = 0\n",
    "        x[i].upper = 1\n",
    "\n",
    "    m.Obj(alpha)  # Objective function to minimize\n",
    "    num_objectives = len(objectives)\n",
    "\n",
    "    # Define Constraints\n",
    "    for i in range(num_objectives):\n",
    "        m.Equation(w[i] * (objectives[i](x) - z_dot[i]) <= alpha)\n",
    "    \n",
    "    m.options.DIAGLEVEL=2\n",
    "\n",
    "    # Minimize alpha subject to the constraints\n",
    "    m.solve(disp=False)\n",
    "    print(f\"Optimal value of alpha: {alpha.value[0]}\")\n",
    "    print('Lagrange multipliers')\n",
    "    lam = np.loadtxt(m.path + '/apm_lam.txt')\n",
    "    lam*=-1\n",
    "    print(lam)\n",
    "    print(\"Value of x\")\n",
    "    flattened_x = [item for sublist in x for item in sublist]\n",
    "    print(flattened_x)\n",
    "    # Calculate Lagrange multipliers\n",
    "    #lagrange_multipliers = np.array([item for sublist in result.v for item in sublist])\n",
    "    #lagrange_multipliers[0:num_objectives] *= -1\n",
    "    #lagrange_multipliers = result.grad[:-1]\n",
    "    return np.array(flattened_x), lam\n"
   ]
  },
  {
   "cell_type": "code",
   "execution_count": 11,
   "id": "07cbf552-ca93-47ee-8617-c5675f07ae6a",
   "metadata": {},
   "outputs": [],
   "source": [
    "def compute_approximate_pareto_optimal_objective_vector(dot_z, lambdas, d, weights):\n",
    "    \"\"\"\n",
    "    Compute the approximate Pareto optimal objective vector.\n",
    "\n",
    "    Args:\n",
    "    dot_z (numpy.ndarray): Current objective vector.\n",
    "    d (numpy.ndarray): Direction vector.\n",
    "    n (numpy.ndarray): Normal vector.\n",
    "    w_inv (numpy.ndarray): Inverse of the weight vector.\n",
    "\n",
    "    Returns:\n",
    "    numpy.ndarray: Approximate Pareto optimal objective vector.\n",
    "    \"\"\"\n",
    "    k = len(dot_z)  # Number of objectives\n",
    "    w_inv = 1 / np.array(weights)\n",
    "    n = -np.array([lambdas[i] * weights[i] for i in range(k)])\n",
    "    local_trade_off = -(lambdas[1] * weights[1])/(lambdas[0] * weights[0])\n",
    "    print(\"Local trade off\",local_trade_off)\n",
    "    d = np.array(d)\n",
    "    n = np.array(n)\n",
    "    w_inv = np.array(w_inv)\n",
    "    t = -np.dot(n.T, d) / np.dot(n.T, w_inv)\n",
    "    approximate_z = dot_z + d + t * w_inv\n",
    "    print(\"Approximated z\",approximate_z)\n",
    "    return approximate_z"
   ]
  },
  {
   "cell_type": "code",
   "execution_count": 12,
   "id": "9d15fd50-3c8c-41fd-9826-19a60b14e5a6",
   "metadata": {},
   "outputs": [
    {
     "name": "stdout",
     "output_type": "stream",
     "text": [
      "Optimal value of alpha: -0.059016782795\n",
      "Lagrange multipliers\n",
      "[0.4480251 0.5519749]\n",
      "Value of x\n",
      "[0.38196549858, 6.9449012519e-10, 6.9449012519e-10, 6.9449012519e-10, 6.9449012519e-10]\n",
      "0.381966430328001\n",
      "Local trade off -1.2320178016096113\n",
      "Approximated z [0.10597805 0.60597898]\n",
      "Local trade off -1.2320178016096113\n",
      "Approximated z [0.54755797 0.2475589 ]\n"
     ]
    },
    {
     "data": {
      "image/png": "[encoded data removed]",
      "text/plain": [
       "<Figure size 576x432 with 1 Axes>"
      ]
     },
     "metadata": {
      "needs_background": "light"
     },
     "output_type": "display_data"
    }
   ],
   "source": [
    "# Main function to compute and plot Pareto front\n",
    "def plot(w, z_i, z_dot, d, d2, approximate_z, approximate_z2):\n",
    "    # Decision variable range\n",
    "    # Generate x values\n",
    "    sample_size = 100\n",
    "    objDim=2\n",
    "\n",
    "    P       = np.zeros((sample_size, objDim))\n",
    "    f11      = np.linspace(0, 1, sample_size)\n",
    "    P[:, 0] = f11\n",
    "    P[: ,1] = np.ones(sample_size) - np.sqrt(P[:, 0])\n",
    "    # Plot Pareto front\n",
    "    plt.figure(figsize=(8, 6))\n",
    "    plt.plot(P[:, 0], P[:, 1], label='Pareto Front', color='blue', marker='.')\n",
    "    plt.plot(approximate_z[0], approximate_z[1], label='approximated point', color='red', marker='.')\n",
    "    plt.plot(approximate_z2[0], approximate_z2[1], label='approximated point', color='red', marker='.')\n",
    "    plt.plot(z_i[0], z_i[1], label='current point', color='green', marker='.')\n",
    "    plt.plot(z_dot[0], z_dot[1], label='reference point', color='green', marker='.')\n",
    "    plt.plot(z_dot[0] + d[0], z_dot[1] + d[1], label='new_rp', color='blue', marker='.')\n",
    "    plt.plot(z_dot[0] + d2[0], z_dot[1] + d2[1], label='new_rp', color='blue', marker='.')\n",
    "\n",
    "    plt.xlabel('Objective 1')\n",
    "    plt.ylabel('Objective 2')\n",
    "    plt.title('Pareto Front for Biobjective Optimization')\n",
    "    plt.legend()\n",
    "    plt.grid(True)\n",
    "    plt.show()\n",
    "\n",
    "if __name__ == \"__main__\":\n",
    "    num_variables = 5\n",
    "    lower_bounds = [0,0,0,0,0]\n",
    "    upper_bounds = [1,1,1,1,1]\n",
    "    w = [0.5,0.5]   \n",
    "    z_dot = [0.5,0.5]\n",
    "    d = [-0.2, 0.3]\n",
    "    d2 = [0.2,-0.1]\n",
    "    \n",
    "    objectives = [f1,f2]\n",
    "    x, lagrange_multipliers = compute_multipliers(objectives, num_variables, lower_bounds, upper_bounds, w, z_dot)\n",
    "    print(f2(x))\n",
    "    fx = [f1(x), f2(x)]\n",
    "\n",
    "    approximate_z = compute_approximate_pareto_optimal_objective_vector(fx,lagrange_multipliers, d, w)\n",
    "    approximate_z2 = compute_approximate_pareto_optimal_objective_vector(fx,lagrange_multipliers, d2, w)\n",
    "    plot(w, fx, z_dot, d, d2, approximate_z, approximate_z2)\n",
    "\n",
    "    objective_vectors = [fx, approximate_z, approximate_z2]"
   ]
  }
 ],
 "metadata": {
  "kernelspec": {
   "display_name": "Python 3",
   "language": "python",
   "name": "python3"
  },
  "language_info": {
   "codemirror_mode": {
    "name": "ipython",
    "version": 3
   },
   "file_extension": ".py",
   "mimetype": "text/x-python",
   "name": "python",
   "nbconvert_exporter": "python",
   "pygments_lexer": "ipython3",
   "version": "3.10.11"
  }
 },
 "nbformat": 4,
 "nbformat_minor": 5
}
