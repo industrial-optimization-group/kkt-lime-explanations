{
 "cells": [
  {
   "cell_type": "markdown",
   "id": "205f4819-9c44-436d-881d-44aa120ce714",
   "metadata": {},
   "source": [
    "Problem definition"
   ]
  },
  {
   "cell_type": "code",
   "execution_count": 4,
   "id": "aaa450c9-5a61-4944-afe1-680c92c98626",
   "metadata": {},
   "outputs": [
    {
     "name": "stdout",
     "output_type": "stream",
     "text": [
      "Optimal Solution for alpha: [4.99951422]\n",
      "Lagrange Multipliers: [-3.33344001e-01 -3.33344001e-01 -3.33344001e-01 -3.20030717e-05]\n"
     ]
    }
   ],
   "source": [
    "from scipy.optimize import minimize\n",
    "import numpy as np\n",
    "# Define functions f1, f2, f3\n",
    "def f1(x):\n",
    "    return (x[0] - 9)**2 + (x[1] - 6)**2\n",
    "\n",
    "def f2(x):\n",
    "    return (3 * x[0] + x[1] - 5.5)\n",
    "\n",
    "def f3(x):\n",
    "    return (3 * x[0] + 5 * x[1] - 17.5)\n",
    "\n",
    "# Constraints using fixed values [5, 3] and less than or equal to x\n",
    "def constraint1(alpha):\n",
    "    return (0.2*f1([5, 3])) - alpha\n",
    "\n",
    "def constraint2(alpha):\n",
    "    return (0.4*f2([5, 3])) - alpha\n",
    "\n",
    "def constraint3(alpha):\n",
    "    return (0.4*f3([5, 3])) - alpha\n",
    "\n",
    "# Initial guess for alpha\n",
    "initial_guess = [0]\n",
    "\n",
    "# Define the bounds for alpha\n",
    "bounds = ((0, None),)  # No bounds for alpha\n",
    "\n",
    "# Define the constraints\n",
    "constraints = [{'type': 'ineq', 'fun': constraint1},\n",
    "               {'type': 'ineq', 'fun': constraint2},\n",
    "               {'type': 'ineq', 'fun': constraint3}]\n",
    "\n",
    "# Minimize alpha subject to the constraints\n",
    "result = minimize(lambda x: -x[0], initial_guess, bounds=bounds, constraints=constraints, method='trust-constr')\n",
    "\n",
    "print(\"Optimal Solution for alpha:\", result.x)\n",
    "\n",
    "# Calculate Lagrange multipliers\n",
    "lagrange_multipliers = np.array([item for sublist in result.v for item in sublist])\n",
    "\n",
    "print(\"Lagrange Multipliers:\", lagrange_multipliers)"
   ]
  },
  {
   "cell_type": "code",
   "execution_count": 5,
   "id": "25398af6-df2a-4381-9b6d-74c030f7cc61",
   "metadata": {},
   "outputs": [
    {
     "name": "stdout",
     "output_type": "stream",
     "text": [
      " barrier_parameter: 0.00016000000000000007\n",
      " barrier_tolerance: 0.00016000000000000007\n",
      "          cg_niter: 14\n",
      "      cg_stop_cond: 1\n",
      "            constr: [array([0.00048578]), array([0.00048578]), array([0.00048578]), array([4.99951422])]\n",
      "       constr_nfev: [30, 30, 30, 0]\n",
      "       constr_nhev: [0, 0, 0, 0]\n",
      "       constr_njev: [0, 0, 0, 0]\n",
      "    constr_penalty: 1.0\n",
      "  constr_violation: 0.0\n",
      "    execution_time: 0.05194878578186035\n",
      "               fun: -4.999514223096855\n",
      "              grad: array([-1.])\n",
      "               jac: [array([[-1.]]), array([[-1.]]), array([[-1.]]), array([[1.]])]\n",
      "   lagrangian_grad: array([-9.37945864e-10])\n",
      "           message: '`gtol` termination condition is satisfied.'\n",
      "            method: 'tr_interior_point'\n",
      "              nfev: 30\n",
      "              nhev: 0\n",
      "               nit: 19\n",
      "             niter: 19\n",
      "              njev: 15\n",
      "        optimality: 9.379458641381065e-10\n",
      "            status: 1\n",
      "           success: True\n",
      "         tr_radius: 5690.708647278489\n",
      "                 v: [array([-0.333344]), array([-0.333344]), array([-0.333344]), array([-3.20030717e-05])]\n",
      "                 x: array([4.99951422])\n"
     ]
    }
   ],
   "source": [
    "print(result)"
   ]
  },
  {
   "cell_type": "code",
   "execution_count": null,
   "id": "aaa03f07-046f-435a-87fa-f86691dc795c",
   "metadata": {},
   "outputs": [],
   "source": []
  },
  {
   "cell_type": "code",
   "execution_count": null,
   "id": "069ece96-11a7-49d2-880c-e5d016b326c9",
   "metadata": {},
   "outputs": [],
   "source": []
  }
 ],
 "metadata": {
  "kernelspec": {
   "display_name": "Python 3 (ipykernel)",
   "language": "python",
   "name": "python3"
  },
  "language_info": {
   "codemirror_mode": {
    "name": "ipython",
    "version": 3
   },
   "file_extension": ".py",
   "mimetype": "text/x-python",
   "name": "python",
   "nbconvert_exporter": "python",
   "pygments_lexer": "ipython3",
   "version": "3.9.13"
  }
 },
 "nbformat": 4,
 "nbformat_minor": 5
}
