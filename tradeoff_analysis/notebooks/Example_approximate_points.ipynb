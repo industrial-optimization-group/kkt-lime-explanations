{
 "cells": [
  {
   "cell_type": "code",
   "execution_count": 1,
   "id": "b300cd6e",
   "metadata": {},
   "outputs": [],
   "source": [
    "import numpy as np\n",
    "from scipy.optimize import minimize\n",
    "from desdeo_problem import variable_builder, ScalarObjective, MOProblem\n",
    "from desdeo_problem.testproblems.TestProblems import test_problem_builder\n",
    "import plotly.graph_objects as go\n",
    "from desdeo_mcdm.utilities.solvers import solve_pareto_front_representation\n",
    "from desdeo_mcdm.interactive.ReferencePointMethod import ReferencePointMethod\n",
    "import matplotlib.pyplot as plt"
   ]
  },
  {
   "cell_type": "code",
   "execution_count": 2,
   "id": "aaa450c9-5a61-4944-afe1-680c92c98626",
   "metadata": {},
   "outputs": [],
   "source": [
    "# Define objective functions\n",
    "def f1(x):\n",
    "    return x**2\n",
    "\n",
    "def f2(x):\n",
    "    return (x-2)**2\n",
    "\n",
    "def compute_multipliers(objectives, num_variables, lower_bounds, upper_bounds, w, z_dot):\n",
    "    # Initial guess for alpha and variables\n",
    "    initial_guess = np.zeros(num_variables+1)\n",
    "    num_objectives = len(objectives)\n",
    "    \n",
    "    # Define the bounds for alpha\n",
    "    bounds = ((0, None),)  # No bounds for alpha\n",
    "\n",
    "    for i in range(num_variables):\n",
    "        bounds += ((lower_bounds[i], upper_bounds[i]),)\n",
    "    \n",
    "    constraints = []\n",
    "    for i in range(num_objectives):\n",
    "        # Define the constraint equation using the current indices\n",
    "        constraint_eq = lambda x, i=i: w[i] * (objectives[i](x[1]) - z_dot[i]) - x[0]\n",
    "    \n",
    "        # Define the constraint using the lambda function\n",
    "        constraint = {'type': 'ineq', 'fun': constraint_eq}\n",
    "    \n",
    "        # Append the constraint to the constraints list\n",
    "        constraints.append(constraint)\n",
    "    \n",
    "    \n",
    "    # Minimize alpha subject to the constraints\n",
    "    result = minimize(lambda x: -x[0], initial_guess, bounds=bounds, constraints=constraints, method='trust-constr')\n",
    "    \n",
    "    # Calculate Lagrange multipliers\n",
    "    lagrange_multipliers = np.array([item for sublist in result.v for item in sublist])\n",
    "    lagrange_multipliers[0:num_objectives] *= -1\n",
    "    return result.x, lagrange_multipliers[0:num_objectives]\n"
   ]
  },
  {
   "cell_type": "code",
   "execution_count": 3,
   "id": "07cbf552-ca93-47ee-8617-c5675f07ae6a",
   "metadata": {},
   "outputs": [],
   "source": [
    "def compute_approximate_pareto_optimal_objective_vector(dot_z, lambdas, d, weights):\n",
    "    \"\"\"\n",
    "    Compute the approximate Pareto optimal objective vector.\n",
    "\n",
    "    Args:\n",
    "    dot_z (numpy.ndarray): Current objective vector.\n",
    "    d (numpy.ndarray): Direction vector.\n",
    "    n (numpy.ndarray): Normal vector.\n",
    "    w_inv (numpy.ndarray): Inverse of the weight vector.\n",
    "\n",
    "    Returns:\n",
    "    numpy.ndarray: Approximate Pareto optimal objective vector.\n",
    "    \"\"\"\n",
    "    k = len(dot_z)  # Number of objectives\n",
    "    w_inv = 1 / np.array(weights)\n",
    "    n = -np.array([lambdas[i] * weights[i] for i in range(k)])\n",
    "    dot_z = np.array(dot_z)\n",
    "    d = np.array(d)\n",
    "    n = np.array(n)\n",
    "    w_inv = np.array(w_inv)\n",
    "    t = -np.dot(n.T, d) / np.dot(n.T, w_inv)\n",
    "    approximate_z = dot_z + d + t * w_inv\n",
    "    return approximate_z"
   ]
  },
  {
   "cell_type": "code",
   "execution_count": 4,
   "id": "9d15fd50-3c8c-41fd-9826-19a60b14e5a6",
   "metadata": {},
   "outputs": [
    {
     "name": "stderr",
     "output_type": "stream",
     "text": [
      "C:\\Users\\Giomara\\AppData\\Local\\Programs\\Python\\Python39\\lib\\site-packages\\scipy\\optimize\\_hessian_update_strategy.py:182: UserWarning: delta_grad == 0.0. Check if the approximated function is linear. If the function is linear better results can be obtained by defining the Hessian as zero instead of using quasi-Newton approximations.\n",
      "  warn('delta_grad == 0.0. Check if the approximated '\n"
     ]
    },
    {
     "data": {
      "image/png": "[encoded data removed]",
      "text/plain": [
       "<Figure size 576x432 with 1 Axes>"
      ]
     },
     "metadata": {
      "needs_background": "light"
     },
     "output_type": "display_data"
    },
    {
     "name": "stdout",
     "output_type": "stream",
     "text": [
      "[0.50141612 0.50180444]\n"
     ]
    }
   ],
   "source": [
    "# Main function to compute and plot Pareto front\n",
    "def plot(w, z_i, z_dot, d, approximate_z, approximate_z2):\n",
    "    # Decision variable range\n",
    "    x = np.linspace(0, 3, 1000)\n",
    "    \n",
    "    # Compute objective values\n",
    "    y1 = f1(x)\n",
    "    y2 = f2(x)\n",
    "    \n",
    "    # Find non-dominated solutions\n",
    "    pareto_front = []\n",
    "    for i in range(len(x)):\n",
    "        dominated = False\n",
    "        for j in range(len(x)):\n",
    "            if i != j:\n",
    "                if y1[j] <= y1[i] and y2[j] <= y2[i]:\n",
    "                    dominated = True\n",
    "                    break\n",
    "        if not dominated:\n",
    "            pareto_front.append((y1[i], y2[i]))\n",
    "    \n",
    "    pareto_front = np.array(pareto_front)\n",
    "    \n",
    "    # Plot Pareto front\n",
    "    plt.figure(figsize=(8, 6))\n",
    "    plt.plot(pareto_front[:, 0], pareto_front[:, 1], label='Pareto Front', color='blue', marker='.')\n",
    "    plt.plot(approximate_z[0], approximate_z[1], label='approximated point', color='red', marker='.')\n",
    "    plt.plot(approximate_z2[0], approximate_z2[1], label='approximated point', color='red', marker='.')\n",
    "    plt.plot(z_i[0], z_i[1], label='current point', color='green', marker='.')\n",
    "    plt.plot(z_dot[0], z_dot[1], label='reference point', color='green', marker='.')\n",
    "    plt.plot(z_dot[0] + d[0], z_dot[1] + d[1], label='new_rp', color='blue', marker='.')\n",
    "    plt.xlabel('Objective 1')\n",
    "    plt.ylabel('Objective 2')\n",
    "    plt.title('Pareto Front for Biobjective Optimization')\n",
    "    plt.legend()\n",
    "    plt.grid(True)\n",
    "    plt.show()\n",
    "\n",
    "if __name__ == \"__main__\":\n",
    "    num_variables = 1\n",
    "    lower_bounds = [0]\n",
    "    upper_bounds = [3]\n",
    "    w = [0.5,0.5]   \n",
    "    z_dot = [0.5,0.5]\n",
    "    d = [-0.2, 0.3]\n",
    "    d2 = [0.2,-0.1]\n",
    "\n",
    "    objectives = [f1,f2]\n",
    "    x, lagrange_multipliers = compute_multipliers(objectives, num_variables, lower_bounds, upper_bounds, w, z_dot)\n",
    "    fx = [f1(x[1]), f2(x[1])]\n",
    "    approximate_z = compute_approximate_pareto_optimal_objective_vector(fx,lagrange_multipliers, d, w)\n",
    "    approximate_z2 = compute_approximate_pareto_optimal_objective_vector(fx,lagrange_multipliers, d2, w)\n",
    "    plot(w, fx, z_dot, d, approximate_z, approximate_z2)\n",
    "\n",
    "    print(lagrange_multipliers)"
   ]
  },
  {
   "cell_type": "code",
   "execution_count": null,
   "id": "e65f42d9-f550-4387-a65d-337e2fc6bdaf",
   "metadata": {},
   "outputs": [],
   "source": []
  }
 ],
 "metadata": {
  "kernelspec": {
   "display_name": "venv",
   "language": "python",
   "name": "venv"
  },
  "language_info": {
   "codemirror_mode": {
    "name": "ipython",
    "version": 3
   },
   "file_extension": ".py",
   "mimetype": "text/x-python",
   "name": "python",
   "nbconvert_exporter": "python",
   "pygments_lexer": "ipython3",
   "version": "3.9.13"
  }
 },
 "nbformat": 4,
 "nbformat_minor": 5
}
